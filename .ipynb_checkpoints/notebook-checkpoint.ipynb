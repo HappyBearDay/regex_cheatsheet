{
 "cells": [
  {
   "cell_type": "markdown",
   "metadata": {},
   "source": [
    "# **Regex Cheat Sheet** \n",
    "*based on hackerrank*\n"
   ]
  },
  {
   "cell_type": "code",
   "execution_count": 1,
   "metadata": {},
   "outputs": [],
   "source": [
    "import re\n",
    "import sys\n"
   ]
  },
  {
   "cell_type": "code",
   "execution_count": null,
   "metadata": {},
   "outputs": [],
   "source": []
  },
  {
   "cell_type": "markdown",
   "metadata": {},
   "source": [
    "Find the string 'hackerrank' on a string."
   ]
  },
  {
   "cell_type": "code",
   "execution_count": 2,
   "metadata": {},
   "outputs": [
    {
     "name": "stdout",
     "output_type": "stream",
     "text": [
      "Number of matches : 2\n"
     ]
    }
   ],
   "source": [
    "def test_01():\n",
    "    Regex_Pattern = r'hackerrank'\t# Do not delete 'r'.\n",
    "\n",
    "    Test_String = \"\"\"\n",
    "    The hackerrank team is on a mission \n",
    "    to flatten the world by restructuring the DNA \n",
    "    of every company on the planet. \n",
    "    We rank programmers based on their coding skills,\n",
    "    helping companies source great programmers and \n",
    "    reduce the time to hire. As a result, we are \n",
    "    revolutionizing the way companies discover and \n",
    "    evaluate talented engineers. \n",
    "    The hackerrank platform is the destination \n",
    "    for the best engineers to hone their skills \n",
    "    and companies to find top engineers.\"\"\"\n",
    "\n",
    "    match = re.findall(Regex_Pattern, Test_String)\n",
    "\n",
    "    print(\"Number of matches :\", len(match))\n",
    "test_01()"
   ]
  },
  {
   "cell_type": "code",
   "execution_count": null,
   "metadata": {},
   "outputs": [],
   "source": []
  },
  {
   "cell_type": "markdown",
   "metadata": {},
   "source": [
    "Check if a string check with the pattern 3chars.3chars.3chars.chars"
   ]
  },
  {
   "cell_type": "code",
   "execution_count": 3,
   "metadata": {},
   "outputs": [
    {
     "name": "stdout",
     "output_type": "stream",
     "text": [
      "true\n"
     ]
    }
   ],
   "source": [
    "def test_02():\n",
    "    regex_pattern = r\"...\\....\\....\\....\"\t# Do not delete 'r'.\n",
    "\n",
    "    test_string = \"123.456.abc.def\"\n",
    "\n",
    "    match = re.match(regex_pattern, test_string) is not None\n",
    "\n",
    "    print(str(match).lower())\n",
    "test_02()"
   ]
  },
  {
   "cell_type": "markdown",
   "metadata": {},
   "source": [
    "\\d : digit char  \n",
    "\\D : non-digit char"
   ]
  },
  {
   "cell_type": "code",
   "execution_count": 4,
   "metadata": {},
   "outputs": [
    {
     "name": "stdout",
     "output_type": "stream",
     "text": [
      "true\n"
     ]
    }
   ],
   "source": [
    "def test_03():\n",
    "    regex_pattern = r\"\\d\\.\\d\\D\"\t# Do not delete 'r'.\n",
    "\n",
    "    test_string = \"3.4A\"\n",
    "\n",
    "    match = re.match(regex_pattern, test_string) is not None\n",
    "\n",
    "    print(str(match).lower())\n",
    "test_03()"
   ]
  },
  {
   "cell_type": "markdown",
   "metadata": {},
   "source": [
    "\\s : space char  \n",
    "\\S : non-digit char"
   ]
  },
  {
   "cell_type": "code",
   "execution_count": 5,
   "metadata": {},
   "outputs": [
    {
     "name": "stdout",
     "output_type": "stream",
     "text": [
      "true\n"
     ]
    }
   ],
   "source": [
    "def test_04():\n",
    "    regex_pattern = r\"\\d\\d\\s\\d\\d\"\t# Do not delete 'r'.\n",
    "\n",
    "    test_string = \"11 45\"\n",
    "\n",
    "    match = re.match(regex_pattern, test_string) is not None\n",
    "\n",
    "    print(str(match).lower())\n",
    "test_04()"
   ]
  },
  {
   "cell_type": "markdown",
   "metadata": {},
   "source": [
    "\\w : word character  \n",
    "\\W : non-word character"
   ]
  },
  {
   "cell_type": "code",
   "execution_count": 6,
   "metadata": {},
   "outputs": [
    {
     "name": "stdout",
     "output_type": "stream",
     "text": [
      "true\n"
     ]
    }
   ],
   "source": [
    "def test_05():\n",
    "    regex_pattern = r\"\\W\\w\\s\\d\\d\"\t# Do not delete 'r'.\n",
    "\n",
    "    test_string = \"+a 44+a 44\"\n",
    "\n",
    "    match = re.match(regex_pattern, test_string) is not None\n",
    "\n",
    "    print(str(match).lower())\n",
    "test_05()"
   ]
  },
  {
   "cell_type": "markdown",
   "metadata": {},
   "source": [
    "^ : Start of a string  \n",
    "$ : End of a string"
   ]
  },
  {
   "cell_type": "code",
   "execution_count": 7,
   "metadata": {},
   "outputs": [
    {
     "name": "stdout",
     "output_type": "stream",
     "text": [
      "true\n"
     ]
    }
   ],
   "source": [
    "def test_06():\n",
    "    regex_pattern = r\"^\\w\\s.\\d$\"\t# Do not delete 'r'.\n",
    "\n",
    "    test_string = \"a |7\"\n",
    "\n",
    "    match = re.match(regex_pattern, test_string) is not None\n",
    "\n",
    "    print(str(match).lower())\n",
    "test_06()"
   ]
  },
  {
   "cell_type": "code",
   "execution_count": null,
   "metadata": {},
   "outputs": [],
   "source": []
  },
  {
   "cell_type": "code",
   "execution_count": null,
   "metadata": {},
   "outputs": [],
   "source": []
  },
  {
   "cell_type": "code",
   "execution_count": null,
   "metadata": {},
   "outputs": [],
   "source": []
  },
  {
   "cell_type": "code",
   "execution_count": null,
   "metadata": {},
   "outputs": [],
   "source": []
  },
  {
   "cell_type": "code",
   "execution_count": null,
   "metadata": {},
   "outputs": [],
   "source": []
  },
  {
   "cell_type": "code",
   "execution_count": null,
   "metadata": {},
   "outputs": [],
   "source": []
  },
  {
   "cell_type": "code",
   "execution_count": null,
   "metadata": {},
   "outputs": [],
   "source": []
  },
  {
   "cell_type": "code",
   "execution_count": null,
   "metadata": {},
   "outputs": [],
   "source": []
  },
  {
   "cell_type": "code",
   "execution_count": null,
   "metadata": {},
   "outputs": [],
   "source": []
  }
 ],
 "metadata": {
  "kernelspec": {
   "display_name": "Python 3",
   "language": "python",
   "name": "python3"
  },
  "language_info": {
   "codemirror_mode": {
    "name": "ipython",
    "version": 3
   },
   "file_extension": ".py",
   "mimetype": "text/x-python",
   "name": "python",
   "nbconvert_exporter": "python",
   "pygments_lexer": "ipython3",
   "version": "3.6.8"
  }
 },
 "nbformat": 4,
 "nbformat_minor": 2
}
